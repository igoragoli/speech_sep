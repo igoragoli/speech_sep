{
 "cells": [
  {
   "cell_type": "code",
   "execution_count": 1,
   "id": "4569ffd6-85c0-4fbc-a315-5e3db7269372",
   "metadata": {},
   "outputs": [],
   "source": [
    "import os\n",
    "import random\n",
    "import numpy as np\n",
    "import torch\n",
    "from tqdm import tqdm"
   ]
  },
  {
   "cell_type": "code",
   "execution_count": 2,
   "id": "c543fa71-01a1-4d4e-ad95-3f3e9c308f58",
   "metadata": {},
   "outputs": [],
   "source": [
    "from speechbrain.pretrained import SepformerSeparation as separator\n",
    "from utils import select_random_files, form_pairs_mf, separate_pair, evaluate_separation"
   ]
  },
  {
   "cell_type": "code",
   "execution_count": 3,
   "id": "781c5e62-598d-4b35-9e95-11ac8486d303",
   "metadata": {},
   "outputs": [],
   "source": [
    "device = torch.device(\"cuda\" if torch.cuda.is_available() else \"cpu\")"
   ]
  },
  {
   "cell_type": "markdown",
   "id": "4fb931a6-a187-4c3e-aebc-7c9b49f54e4c",
   "metadata": {
    "tags": []
   },
   "source": [
    "## Generating random pairs"
   ]
  },
  {
   "cell_type": "code",
   "execution_count": 4,
   "id": "a1e1a1e0-dbe5-4276-bf46-a3381163e18c",
   "metadata": {},
   "outputs": [],
   "source": [
    "selected_files_m = select_random_files(files_per_folder=2, seconds_considered=5, specify_sex='M')\n",
    "selected_files_f = select_random_files(files_per_folder=2, seconds_considered=5, specify_sex='F')\n",
    "formed_pairs = form_pairs_mf(selected_files_m, selected_files_f)"
   ]
  },
  {
   "cell_type": "code",
   "execution_count": 5,
   "id": "6a990082-9a9a-4769-9fb6-828313fd451b",
   "metadata": {},
   "outputs": [],
   "source": [
    "formed_pairs = formed_pairs[:3]"
   ]
  },
  {
   "cell_type": "markdown",
   "id": "9dcaa552-56f9-4188-9007-760703c444d5",
   "metadata": {},
   "source": [
    "## Loading model and separating audios"
   ]
  },
  {
   "cell_type": "code",
   "execution_count": 6,
   "id": "526f0c11-5599-4686-89bf-b484264fdd01",
   "metadata": {},
   "outputs": [],
   "source": [
    "if device == torch.device(\"cuda\"):\n",
    "    model = separator.from_hparams(source=\"speechbrain/sepformer-whamr\", savedir='pretrained_models/sepformer-whamr', run_opts={\"device\":\"cuda\"})\n",
    "else:\n",
    "    model = separator.from_hparams(source=\"speechbrain/sepformer-whamr\", savedir='pretrained_models/sepformer-whamr')"
   ]
  },
  {
   "cell_type": "code",
   "execution_count": 7,
   "id": "b164c8d0-1d46-41a4-b30b-02cca42873f4",
   "metadata": {},
   "outputs": [
    {
     "name": "stderr",
     "output_type": "stream",
     "text": [
      "Evaluating pairs: 100%|███████████████████████████████████████████████████████████████████| 3/3 [00:31<00:00, 10.65s/it]\n"
     ]
    }
   ],
   "source": [
    "si_sdr_list = []\n",
    "for pair in tqdm(formed_pairs, \"Evaluating pairs\"):\n",
    "    _, sources, predictions = separate_pair(pair, model, device)\n",
    "    si_sdr1, si_sdr2 = evaluate_separation(sources, predictions)\n",
    "    si_sdr_list.extend([si_sdr1, si_sdr2])"
   ]
  },
  {
   "cell_type": "code",
   "execution_count": 8,
   "id": "aa4c6c4f-0752-496c-9166-3cfd8a79fdd3",
   "metadata": {},
   "outputs": [],
   "source": [
    "si_sdr_np = np.stack(si_sdr_list)\n",
    "np.save(\"si_sdr_mf\", si_sdr_np)"
   ]
  },
  {
   "cell_type": "markdown",
   "id": "c5b46f12-d41a-4e62-a34f-8b3cdd527a84",
   "metadata": {},
   "source": [
    "### SI-SDR Median"
   ]
  },
  {
   "cell_type": "code",
   "execution_count": 9,
   "id": "fae4f78c-8018-46dc-b295-708004ea9e95",
   "metadata": {},
   "outputs": [
    {
     "data": {
      "text/plain": [
       "11.430128"
      ]
     },
     "execution_count": 9,
     "metadata": {},
     "output_type": "execute_result"
    }
   ],
   "source": [
    "np.median(si_sdr_np)"
   ]
  },
  {
   "cell_type": "markdown",
   "id": "120b69d0-1c75-4c93-bfa5-8778a144a99b",
   "metadata": {},
   "source": [
    "### SI-SDR Mean"
   ]
  },
  {
   "cell_type": "code",
   "execution_count": 10,
   "id": "b8449b6b-0995-4b84-a545-4a203468991e",
   "metadata": {},
   "outputs": [
    {
     "data": {
      "text/plain": [
       "10.9900255"
      ]
     },
     "execution_count": 10,
     "metadata": {},
     "output_type": "execute_result"
    }
   ],
   "source": [
    "np.mean(si_sdr_np)"
   ]
  }
 ],
 "metadata": {
  "kernelspec": {
   "display_name": "PythonSpeech",
   "language": "python",
   "name": "speech"
  },
  "language_info": {
   "codemirror_mode": {
    "name": "ipython",
    "version": 3
   },
   "file_extension": ".py",
   "mimetype": "text/x-python",
   "name": "python",
   "nbconvert_exporter": "python",
   "pygments_lexer": "ipython3",
   "version": "3.8.5"
  }
 },
 "nbformat": 4,
 "nbformat_minor": 5
}
